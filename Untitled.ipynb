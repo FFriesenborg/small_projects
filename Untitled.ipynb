{
 "cells": [
  {
   "cell_type": "code",
   "execution_count": null,
   "id": "838f9c98",
   "metadata": {},
   "outputs": [],
   "source": [
    "import matplotlib.pyplot as plt\n",
    "import numpy as np\n",
    "\n",
    "# Generate some sample data\n",
    "np.random.seed(10)\n",
    "data = [np.random.normal(0, std, 100) for std in range(1, 4)]\n",
    "\n",
    "# Create the figure and axis objects\n",
    "fig, ax = plt.subplots()\n",
    "\n",
    "# Create the boxplot\n",
    "ax.boxplot(data, vert=False, patch_artist=True)\n",
    "\n",
    "# Customize the plot to make it look like a kebab\n",
    "ax.set_xlim(-5, 5)  # Adjust the x-axis limits to create the kebab shape\n",
    "ax.set_yticks([])   # Remove the y-axis ticks\n",
    "ax.set_xlabel('Value')  # Set the x-axis label\n",
    "ax.set_title('Kebab-shaped Boxplot')  # Set the plot title\n",
    "\n",
    "# Customize the boxplot colors\n",
    "colors = ['tan', 'saddlebrown', 'firebrick']\n",
    "for patch, color in zip(ax['boxes'], colors):\n",
    "    patch.set_facecolor(color)\n",
    "\n",
    "# Show the plot\n",
    "plt.show()\n"
   ]
  }
 ],
 "metadata": {
  "kernelspec": {
   "display_name": "Python 3 (ipykernel)",
   "language": "python",
   "name": "python3"
  },
  "language_info": {
   "codemirror_mode": {
    "name": "ipython",
    "version": 3
   },
   "file_extension": ".py",
   "mimetype": "text/x-python",
   "name": "python",
   "nbconvert_exporter": "python",
   "pygments_lexer": "ipython3",
   "version": "3.9.18"
  }
 },
 "nbformat": 4,
 "nbformat_minor": 5
}
